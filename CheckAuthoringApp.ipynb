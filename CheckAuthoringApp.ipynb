{
 "cells": [
  {
   "cell_type": "code",
   "execution_count": null,
   "metadata": {},
   "outputs": [],
   "source": [
    "from arcgis.gis import GIS"
   ]
  },
  {
   "cell_type": "code",
   "execution_count": null,
   "metadata": {},
   "outputs": [],
   "source": [
    "gis = GIS(\"home\")"
   ]
  },
  {
   "cell_type": "code",
   "execution_count": null,
   "metadata": {},
   "outputs": [],
   "source": [
    "web_maps = gis.content.search(query=\"*\", item_type=\"Web Map\", max_items=1000)"
   ]
  },
  {
   "cell_type": "code",
   "execution_count": null,
   "metadata": {},
   "outputs": [],
   "source": [
    "switch = {\n",
    "    \"WebMapViewer\": \"Map Viewer Classic\",\n",
    "    \"ArcGISMapViewer\": \"Map Viewer\",\n",
    "    \"ArcGISMapViewerBeta\": \"Map Viewer\",\n",
    "    \"Survey123Connect\": \"ArcGIS Survey123 Connect\",\n",
    "    \"ArcGIS Pro\": \"ArcGIS Pro\",\n",
    "    \"ArcGIS API for JavaScript\": \"ArcGIS API for JavaScript\",\n",
    "    \"ArcGIS Field Maps\": \"ArcGIS Field Maps\",\n",
    "    \"workforce-web\": \"ArcGIS Workforce\",\n",
    "    \"workforce-js\": \"ArcGIS Workforce\",\n",
    "    \"RuntimeSDK\": \"ArcGIS Runtime SDK\",\n",
    "    \"BAWebApp\": \"ArcGIS Business Analyst Web App\",\n",
    "    \"ArcGIS for Office\": \"ArcGIS for Office\",\n",
    "    \"Drone2Map\": \"ArcGIS Drone2Map\",\n",
    "    \"ArcGIS Urban\": \"ArcGIS Urban\",\n",
    "    \"ArcGISPythonAPI\": \"ArcGIS API for Python\",\n",
    "    \"StoryMapShortlist\": \"ArcGIS StoryMaps\"\n",
    "}\n",
    "\n",
    "for web_map in web_maps:\n",
    "    web_map_data = web_map.get_data()\n",
    "    authoring_app = web_map_data.get(\"authoringApp\")\n",
    "    if authoring_app in switch:\n",
    "        print(f\"Web map {web_map.id} authored by {switch[authoring_app]}.\")\n",
    "    else authoring_app == None:\n",
    "        print(f\"'authoringApp' property not in web map {web_map.id} item's JSON.\")"
   ]
  },
  {
   "cell_type": "code",
   "execution_count": null,
   "metadata": {},
   "outputs": [],
   "source": []
  }
 ],
 "metadata": {
  "esriNotebookRuntime": {
   "notebookRuntimeName": "ArcGIS Notebook Python 3 Standard",
   "notebookRuntimeVersion": "7.0"
  },
  "kernelspec": {
   "display_name": "Python 3 (ipykernel)",
   "language": "python",
   "name": "python3"
  },
  "language_info": {
   "codemirror_mode": {
    "name": "ipython",
    "version": 3
   },
   "file_extension": ".py",
   "mimetype": "text/x-python",
   "name": "python",
   "nbconvert_exporter": "python",
   "pygments_lexer": "ipython3",
   "version": "3.9.11"
  }
 },
 "nbformat": 4,
 "nbformat_minor": 2
}
