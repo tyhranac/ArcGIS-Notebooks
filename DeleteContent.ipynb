{
 "cells": [
  {
   "cell_type": "markdown",
   "metadata": {},
   "source": [
    "## Programmatically Deleting Content in ArcGIS Online"
   ]
  },
  {
   "cell_type": "markdown",
   "metadata": {},
   "source": [
    "Whether you need to remove an old member’s content or delete deprecated items across your organization, manually deleting items is tedious, especially with delete protection and dependencies.\n",
    "\n",
    "Sounds like a great workflow to automate using the [ArcGIS API for Python](https://developers.arcgis.com/python/), right? But how do we programmatically handle delete protection and dependent items?\n",
    "\n",
    "The most succinct way to delete an old member’s content is to loop through their folders and call the ArcGIS API for Python’s ContentManager’s [.delete_items()](https://developers.arcgis.com/python/api-reference/arcgis.gis.toc.html#arcgis.gis.ContentManager.delete_items) method on all the content in each folder.\n",
    "\n",
    "Alright, not too bad, but what happens when items have delete protection or dependents?\n",
    "\n",
    "**False** (that’s all we get from the method).\n",
    "\n",
    "Everything that can be deleted is deleted, but items with delete protection enabled or with dependents are not.\n",
    "\n",
    "Okay, but the ContentManager class has another method – .can_delete() – that we could use to handle this, right?\n",
    "\n",
    "Yes, but now instead of deleting all the content in a folder with one succinct line of code, we’re looping through every item in each folder, checking if it can be deleted, and then if it can’t, dealing with the reason it can’t be deleted. In the case of dependent items, that means we also need another loop to check and delete the dependent items.\n",
    "\n",
    "Our code is no longer succinct and is becoming harder to read with all the nested for loops and if-else statements. Time to bring in recursion. Recursion allows us to call a function within its own definition. When applicable, this can significantly reduce how much code we have to write to accomplish our goal."
   ]
  },
  {
   "cell_type": "markdown",
   "metadata": {},
   "source": [
    "### Import Modules"
   ]
  },
  {
   "cell_type": "code",
   "execution_count": null,
   "metadata": {},
   "outputs": [],
   "source": [
    "from arcgis.gis import GIS, User"
   ]
  },
  {
   "cell_type": "markdown",
   "metadata": {},
   "source": [
    "### Define recursive function for deleting items with dependents"
   ]
  },
  {
   "cell_type": "code",
   "execution_count": null,
   "metadata": {},
   "outputs": [],
   "source": [
    "def recursive_delete(items: list) -> None:\n",
    "    \"\"\"Deletes all items and their dependents.\"\"\"\n",
    "    for item in items:\n",
    "        try:\n",
    "            dry_run = item.delete(dry_run=True)\n",
    "        \n",
    "            if dry_run[\"can_delete\"]:\n",
    "                item.delete()\n",
    "            elif dry_run[\"details\"][\"message\"] == f\"Unable to delete item {item.id}. Delete protection is turned on.\":\n",
    "                item.protect(enable=False)\n",
    "                item.delete()\n",
    "            elif dry_run[\"details\"][\"message\"] == \"Unable to delete item. This service item has a related Service item\":\n",
    "                recursive_delete(dry_run[\"details\"][\"offending_items\"])\n",
    "        except TypeError:\n",
    "            print(f\"Item ({item.id}) no longer exists or is inaccessible.\")\n",
    "    return"
   ]
  },
  {
   "cell_type": "markdown",
   "metadata": {},
   "source": [
    "### Instantiate GIS"
   ]
  },
  {
   "cell_type": "code",
   "execution_count": null,
   "metadata": {},
   "outputs": [],
   "source": [
    "gis = GIS(\"home\")"
   ]
  },
  {
   "cell_type": "markdown",
   "metadata": {},
   "source": [
    "### Delete member's content"
   ]
  },
  {
   "cell_type": "code",
   "execution_count": null,
   "metadata": {},
   "outputs": [],
   "source": [
    "# instantiate User object with the old user's username\n",
    "old_member = User(gis, \"<old_username>\")\n",
    "\n",
    "# delete all items in root folder\n",
    "recursive_delete(old_member.items(max=1000))\n",
    "\n",
    "# delete items in all other folders\n",
    "for f in old_member.folders:\n",
    "    recursive_delete(old_member.items(folder=f, max=1000))"
   ]
  }
 ],
 "metadata": {
  "esriNotebookRuntime": {
   "notebookRuntimeName": "ArcGIS Notebook Python 3 Standard",
   "notebookRuntimeVersion": "7.0"
  },
  "kernelspec": {
   "display_name": "Python 3 (ipykernel)",
   "language": "python",
   "name": "python3"
  },
  "language_info": {
   "codemirror_mode": {
    "name": "ipython",
    "version": 3
   },
   "file_extension": ".py",
   "mimetype": "text/x-python",
   "name": "python",
   "nbconvert_exporter": "python",
   "pygments_lexer": "ipython3",
   "version": "3.9.11"
  }
 },
 "nbformat": 4,
 "nbformat_minor": 2
}
